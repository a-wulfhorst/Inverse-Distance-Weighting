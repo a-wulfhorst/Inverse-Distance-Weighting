{
 "cells": [
  {
   "cell_type": "markdown",
   "metadata": {},
   "source": [
    "Summary: Implement Inverse Distance Weighting (IDW) on two test functions: \n",
    "- sine function $$y=\\sin x$$\n",
    "- and Runge function $$y = \\frac{1}{1+25x^2}$$\n",
    "\n",
    "and add confidence bounds. \n",
    "\n",
    "## Prep"
   ]
  },
  {
   "cell_type": "code",
   "execution_count": 2,
   "metadata": {
    "ExecuteTime": {
     "end_time": "2021-08-25T10:21:37.124008Z",
     "start_time": "2021-08-25T10:21:33.116512Z"
    }
   },
   "outputs": [],
   "source": [
    "import numpy as np\n",
    "import pandas as pd\n",
    "import matplotlib as mpl\n",
    "import matplotlib.pyplot as plt\n",
    "from datetime import datetime\n",
    "from matplotlib import dates\n",
    "import os\n",
    "from matplotlib.ticker import FuncFormatter, MultipleLocator\n",
    "\n",
    "import seaborn as sns\n",
    "import scipy.stats as stats\n",
    "\n",
    "## set up Latex rendering (see latex_rendering.ipynb for more info)\n",
    "import latex_support as latex\n",
    "plt.style.use('tex')\n",
    "plt.style.use('seaborn-colorblind')"
   ]
  },
  {
   "cell_type": "markdown",
   "metadata": {},
   "source": [
    "## Test functions\n",
    "\n",
    "We define the sine and Runge function. "
   ]
  },
  {
   "cell_type": "code",
   "execution_count": 3,
   "metadata": {
    "ExecuteTime": {
     "end_time": "2021-08-25T10:21:37.139640Z",
     "start_time": "2021-08-25T10:21:37.124008Z"
    }
   },
   "outputs": [],
   "source": [
    "def test_function(x, function='runge'): \n",
    "    if function=='runge': \n",
    "        return runge(x)\n",
    "    elif function=='sine': \n",
    "        return sine(x)\n",
    "    elif function=='quadratic':\n",
    "        return quadratic(x)\n",
    "    else:\n",
    "        print('Error: Please choose a valid test function. ')\n",
    "        \n",
    "\n",
    "def sine(x): \n",
    "    \"\"\"\n",
    "    calculate y = sin x\n",
    "    input: x\n",
    "    ouput: y\n",
    "    \"\"\"\n",
    "    return np.sin(x)\n",
    "\n",
    "def runge(x): \n",
    "    \"\"\"\n",
    "    calculate Runge function y = 1 / (1 + 25*x**2)\n",
    "    input: x\n",
    "    ouput: y\n",
    "    \"\"\"\n",
    "    return 1/(1+25*x**2)\n",
    "\n",
    "def quadratic(x):\n",
    "    \"\"\"\n",
    "    calculate quadratic function y = x**2\n",
    "    input: x\n",
    "    ouput: y\n",
    "    \"\"\"\n",
    "    return x**2"
   ]
  },
  {
   "cell_type": "markdown",
   "metadata": {},
   "source": [
    "## Base points and interpolated points\n",
    "\n",
    "We need a function to draw i values from a range. "
   ]
  },
  {
   "cell_type": "code",
   "execution_count": 3,
   "metadata": {
    "ExecuteTime": {
     "end_time": "2021-08-24T13:05:27.555195Z",
     "start_time": "2021-08-24T13:05:27.500323Z"
    }
   },
   "outputs": [],
   "source": [
    "def x_draw(x_min, x_max, i): \n",
    "    \"\"\"\n",
    "    randomly draw i x-values from range (x_min, x_max)\n",
    "    input: \n",
    "    - x_min: lower limit \n",
    "    - x_max: upper limit\n",
    "    - i: number of values drawn\n",
    "    ouput: array with i random values\n",
    "    \"\"\"\n",
    "    return np.random.uniform(x_min,x_max,i)"
   ]
  },
  {
   "cell_type": "markdown",
   "metadata": {},
   "source": [
    "## IDW\n",
    "\n",
    "We implement IDW. The formula for an interpolated y-value is: \n",
    "$$ \\textrm{ y_idw[i]} = \\frac{\\sum_j \\frac{\\textrm{ y_base[i]}}{d_j}}{\\sum_j \\frac{1}{d_j}}$$\n",
    "\n",
    "where \n",
    "\n",
    "$$ \\textrm{d_j} =  (\\textrm{ x_base[j]} - \\textrm{ x_idw[i]})^2$$\n",
    "\n",
    "The standard error for each interpolated point is also calculated from\n",
    "\n",
    "$$ \\textrm{ se[i]} = \\sqrt{\\sum_i d_i}$$"
   ]
  },
  {
   "cell_type": "code",
   "execution_count": 4,
   "metadata": {
    "ExecuteTime": {
     "end_time": "2021-08-24T13:05:27.592642Z",
     "start_time": "2021-08-24T13:05:27.564457Z"
    }
   },
   "outputs": [],
   "source": [
    "def squared_distance(x_0, x_i):\n",
    "    \"\"\"\n",
    "    calculate the squared distance between two points in 1D\n",
    "    input: two x-values\n",
    "    output: squared distance between them\n",
    "    \"\"\"\n",
    "    d = (x_0 - x_i)**2\n",
    "    return d\n",
    "\n",
    "def idw(x_base, y_base, x_idw):\n",
    "    \"\"\"\n",
    "    do 1D IDW on a list of x-values and calculate standard error\n",
    "    input: \n",
    "    - x_base: known x-values\n",
    "    - y_base: known y-values\n",
    "    - x_idw: x-values to be interpolated\n",
    "    output: \n",
    "    - y_idw: interpolated y-values\n",
    "    - se: \n",
    "    \"\"\"\n",
    "    ## create empty list for interpolated y-values\n",
    "    y = []\n",
    "    se = []\n",
    "    \n",
    "    ## loop through x-values to be interpolated\n",
    "    for i in range(len(x_idw)): \n",
    "        \n",
    "        ## create empty list for distances\n",
    "        distances = []\n",
    "                \n",
    "        ## loop through known x-values\n",
    "        for j in range(len(x_base)): \n",
    "            d = squared_distance(x_base[j], x_idw[i])\n",
    "            distances.append(d)\n",
    "\n",
    "        ## calculate and append interpolated y-value\n",
    "        sum_lower = sum([1/x for x in distances])\n",
    "        sum_upper = sum([y_base[i]/x for x in distances])\n",
    "        y_i = sum_upper / sum_lower\n",
    "        y.append(y_i)\n",
    "        \n",
    "        ## calculate and append standard error\n",
    "        se_i = 1/(np.sqrt(sum([1/x for x in distances])))\n",
    "        se.append(se_i)\n",
    "    return y, se\n"
   ]
  },
  {
   "cell_type": "markdown",
   "metadata": {},
   "source": [
    "## Run and plot\n",
    "\n",
    "https://matplotlib.org/stable/api/_as_gen/matplotlib.pyplot.errorbar.html\n",
    "\n",
    "https://www.google.com/search?client=firefox-b-d&q=error+bound\n",
    "\n",
    "https://note.nkmk.me/en/python-function-return-multiple-values/"
   ]
  },
  {
   "cell_type": "code",
   "execution_count": 19,
   "metadata": {
    "ExecuteTime": {
     "end_time": "2021-08-24T13:13:38.936043Z",
     "start_time": "2021-08-24T13:13:35.166009Z"
    }
   },
   "outputs": [
    {
     "name": "stdout",
     "output_type": "stream",
     "text": [
      "error:  [0.06726793103606679, 0.997714058240585, 0.7977870792016183, 0.3098315441709891, 1.0684885261080301, 0.37203127383313034, 0.0945796329796435, 0.6162971806206177, 0.3612818212322906, 0.10167859264385187]\n"
     ]
    },
    {
     "name": "stderr",
     "output_type": "stream",
     "text": [
      "C:\\Users\\awsch\\Anaconda3\\lib\\site-packages\\ipykernel_launcher.py:73: UserWarning: linestyle is redundantly defined by the 'linestyle' keyword argument and the fmt string \"-+\" (-> linestyle='-'). The keyword argument will take precedence.\n"
     ]
    },
    {
     "data": {
      "text/plain": [
       "<matplotlib.legend.Legend at 0x1bd10fee608>"
      ]
     },
     "execution_count": 19,
     "metadata": {},
     "output_type": "execute_result"
    },
    {
     "data": {
      "image/png": "[encoded data removed]",
      "text/plain": [
       "<Figure size 391.701x242.085 with 1 Axes>"
      ]
     },
     "metadata": {
      "needs_background": "light"
     },
     "output_type": "display_data"
    }
   ],
   "source": [
    "## choose test function\n",
    "function = 'runge' # Runge function\n",
    "# function = 'sine' # sine function\n",
    "# function = 'quadratic' # quadratic function\n",
    "\n",
    "## configure function plot\n",
    "x_lower = -5 # lower limit of x-axis\n",
    "x_upper = 5 # upper limit of x-axis\n",
    "i_function = 1000 # number of points\n",
    "\n",
    "## configure number of base points drawn\n",
    "i_base = 10\n",
    "\n",
    "## configure number of points to interpolate\n",
    "i_idw = 10\n",
    "\n",
    "## configure confidence interval\n",
    "ci = .90 # other option: 0.95\n",
    "\n",
    "## configure plot\n",
    "base=0.5*np.pi # distance between ticks (only for sine plot)\n",
    "\n",
    "## choose base points (optionally from saved data)\n",
    "# x_base = x_draw(x_lower, x_upper, i_base) # use this to create new points\n",
    "# x_base = x_base_sine # use this to load old sine data\n",
    "x_base = x_base_runge # use this to load old Runge data\n",
    "\n",
    "\n",
    "## choose interpolated points (optionally from saved data)\n",
    "x_idw = x_draw(x_lower, x_upper, i_idw) # use this to create new points\n",
    "# x_idw = x_idw_sine # use this to load old sine data\n",
    "# x_idw = x_idw_runge # use this to load old Runge data\n",
    "\n",
    "\n",
    "###################\n",
    "\n",
    "## calculate function\n",
    "x = np.linspace(x_lower, x_upper, i_function)\n",
    "y = test_function(x, function)\n",
    "\n",
    "## calculate y-values of base points\n",
    "y_base = test_function(x_base, function)\n",
    "\n",
    "## do IDW\n",
    "results_idw = idw(x_base, y_base, x_idw)\n",
    "y_idw = results_idw[0]\n",
    "y_idw_se = results_idw[1]\n",
    "\n",
    "## calculate error bound from standard error\n",
    "if ci == 0.9: \n",
    "    y_idw_err = [1.645*x for x in y_idw_se]\n",
    "elif ci == 0.95: \n",
    "    y_idw_err = [1.96*x for x in y_idw_se]\n",
    "else: \n",
    "    print('Error: Please choose a valid confidence interval!')\n",
    "print('error: ',y_idw_err)\n",
    "\n",
    "## create plot\n",
    "fig, ax = plt.subplots(1, 1, figsize=latex.set_size())\n",
    "\n",
    "## plot test function\n",
    "ax.plot(x, y, color='black', linewidth=0.5, label='test function')\n",
    "\n",
    "## plot base points\n",
    "ax.scatter(x_base, y_base, marker='x', color='orange',  label='base points')\n",
    "\n",
    "## plot interpolated points\n",
    "# ax.scatter(x_idw, y_idw, marker='x',  label='interpolated points')\n",
    "\n",
    "\n",
    "## plot errorbars\n",
    "ax.errorbar(x_idw, y_idw, yerr=y_idw_err, fmt='-+', ls='none', \n",
    "            label='interpolated points')\n",
    "\n",
    "## set x-axis ticks for sine plot and change base to change distance between ticks\n",
    "if function=='sine': \n",
    "    ax.xaxis.set_major_formatter(FuncFormatter(\n",
    "        lambda val,pos: '{:.2g}$\\pi$'.format(val/np.pi) if val !=0 else '0'\n",
    "    ))\n",
    "    ax.xaxis.set_major_locator(MultipleLocator(base)) \n",
    "\n",
    "## set x limits\n",
    "plt.xlim(x_lower, x_upper)\n",
    "\n",
    "## set title, labels and legend\n",
    "if function=='sine': \n",
    "    plt.title(r'sine: $f(x) = sin(x)$')\n",
    "elif function=='runge': \n",
    "    plt.title(r'Runge: $f(x) = \\frac{1}{1+25x^2}$')\n",
    "elif function=='quadratic':\n",
    "    plt.title(r'quadratic: $f(x) = x^2$')\n",
    "else:\n",
    "    print('Error: Please choose a valid test function!')\n",
    "plt.xlabel('x')\n",
    "plt.ylabel('f(x)')\n",
    "plt.legend()"
   ]
  },
  {
   "cell_type": "markdown",
   "metadata": {},
   "source": [
    "Save the base points and interpolated points for later. "
   ]
  },
  {
   "cell_type": "code",
   "execution_count": 238,
   "metadata": {
    "ExecuteTime": {
     "end_time": "2021-08-22T13:43:24.143105Z",
     "start_time": "2021-08-22T13:43:24.104055Z"
    }
   },
   "outputs": [
    {
     "name": "stdout",
     "output_type": "stream",
     "text": [
      "Stored 'x_base_runge' (ndarray)\n",
      "Stored 'x_idw_runge' (ndarray)\n"
     ]
    }
   ],
   "source": [
    "x_base_runge = x_base\n",
    "x_idw_runge = x_idw\n",
    "%store x_base_runge\n",
    "%store x_idw_runge\n"
   ]
  },
  {
   "cell_type": "code",
   "execution_count": 8,
   "metadata": {
    "ExecuteTime": {
     "end_time": "2021-08-24T13:06:12.317450Z",
     "start_time": "2021-08-24T13:06:12.246986Z"
    }
   },
   "outputs": [],
   "source": [
    "## Load Runge data\n",
    "%store -r x_base_runge\n",
    "%store -r x_idw_runge"
   ]
  },
  {
   "cell_type": "code",
   "execution_count": 153,
   "metadata": {
    "ExecuteTime": {
     "end_time": "2021-08-22T13:19:52.930175Z",
     "start_time": "2021-08-22T13:19:52.904494Z"
    }
   },
   "outputs": [
    {
     "name": "stdout",
     "output_type": "stream",
     "text": [
      "Stored 'x_base_sine' (ndarray)\n"
     ]
    }
   ],
   "source": [
    "x_base_sine = x_base\n",
    "%store x_base_sine"
   ]
  },
  {
   "cell_type": "code",
   "execution_count": 167,
   "metadata": {
    "ExecuteTime": {
     "end_time": "2021-08-22T13:21:30.674187Z",
     "start_time": "2021-08-22T13:21:30.635511Z"
    }
   },
   "outputs": [
    {
     "name": "stdout",
     "output_type": "stream",
     "text": [
      "Stored 'x_idw_sine' (ndarray)\n"
     ]
    }
   ],
   "source": [
    "x_idw_sine = x_idw\n",
    "%store x_idw_sine"
   ]
  },
  {
   "cell_type": "markdown",
   "metadata": {},
   "source": [
    "To evaluate the IDW, calculate and save the mean squared error. "
   ]
  },
  {
   "cell_type": "code",
   "execution_count": 240,
   "metadata": {
    "ExecuteTime": {
     "end_time": "2021-08-22T13:43:33.245710Z",
     "start_time": "2021-08-22T13:43:33.228836Z"
    }
   },
   "outputs": [],
   "source": [
    "## calculate MSE\n",
    "y_exact = test_function(x_idw)\n",
    "mse = np.mean(squared_distance(y_idw, y_exact))"
   ]
  },
  {
   "cell_type": "code",
   "execution_count": 169,
   "metadata": {
    "ExecuteTime": {
     "end_time": "2021-08-22T13:21:43.623107Z",
     "start_time": "2021-08-22T13:21:43.585831Z"
    }
   },
   "outputs": [
    {
     "name": "stdout",
     "output_type": "stream",
     "text": [
      "Stored 'mse_sine' (float64)\n"
     ]
    }
   ],
   "source": [
    "## use this for sine\n",
    "mse_sine = mse\n",
    "%store mse_sine"
   ]
  },
  {
   "cell_type": "code",
   "execution_count": 7,
   "metadata": {
    "ExecuteTime": {
     "end_time": "2021-08-24T13:05:46.622035Z",
     "start_time": "2021-08-24T13:05:46.572860Z"
    }
   },
   "outputs": [
    {
     "ename": "NameError",
     "evalue": "name 'mse' is not defined",
     "output_type": "error",
     "traceback": [
      "\u001b[1;31m---------------------------------------------------------------------------\u001b[0m",
      "\u001b[1;31mNameError\u001b[0m                                 Traceback (most recent call last)",
      "\u001b[1;32m<ipython-input-7-de266a0ae5e2>\u001b[0m in \u001b[0;36m<module>\u001b[1;34m\u001b[0m\n\u001b[0;32m      1\u001b[0m \u001b[1;31m## use this for Runge\u001b[0m\u001b[1;33m\u001b[0m\u001b[1;33m\u001b[0m\u001b[1;33m\u001b[0m\u001b[0m\n\u001b[1;32m----> 2\u001b[1;33m \u001b[0mmse_runge\u001b[0m \u001b[1;33m=\u001b[0m \u001b[0mmse\u001b[0m\u001b[1;33m\u001b[0m\u001b[1;33m\u001b[0m\u001b[0m\n\u001b[0m\u001b[0;32m      3\u001b[0m \u001b[0mget_ipython\u001b[0m\u001b[1;33m(\u001b[0m\u001b[1;33m)\u001b[0m\u001b[1;33m.\u001b[0m\u001b[0mrun_line_magic\u001b[0m\u001b[1;33m(\u001b[0m\u001b[1;34m'store'\u001b[0m\u001b[1;33m,\u001b[0m \u001b[1;34m'mse_runge'\u001b[0m\u001b[1;33m)\u001b[0m\u001b[1;33m\u001b[0m\u001b[1;33m\u001b[0m\u001b[0m\n",
      "\u001b[1;31mNameError\u001b[0m: name 'mse' is not defined"
     ]
    }
   ],
   "source": [
    "## use this for Runge\n",
    "mse_runge = mse\n",
    "%store mse_runge"
   ]
  },
  {
   "cell_type": "markdown",
   "metadata": {},
   "source": [
    "To retrieve the last MSEs: \n",
    "\n",
    "https://www.blopig.com/blog/2020/05/storing-variables-in-jupyter-notebooks-using-store-magic/"
   ]
  },
  {
   "cell_type": "code",
   "execution_count": 170,
   "metadata": {
    "ExecuteTime": {
     "end_time": "2021-08-22T13:21:50.070562Z",
     "start_time": "2021-08-22T13:21:50.039211Z"
    }
   },
   "outputs": [
    {
     "name": "stdout",
     "output_type": "stream",
     "text": [
      "MSE for the sine:  1.1181956226952048\n"
     ]
    }
   ],
   "source": [
    "%store -r mse_sine\n",
    "print('MSE for the sine: ', mse_sine)"
   ]
  },
  {
   "cell_type": "code",
   "execution_count": 6,
   "metadata": {
    "ExecuteTime": {
     "end_time": "2021-08-24T13:05:42.164818Z",
     "start_time": "2021-08-24T13:05:42.084890Z"
    }
   },
   "outputs": [
    {
     "name": "stdout",
     "output_type": "stream",
     "text": [
      "MSE for Runge:  0.4126507776281085\n"
     ]
    }
   ],
   "source": [
    "%store -r mse_runge\n",
    "print('MSE for Runge: ', mse_runge)"
   ]
  },
  {
   "cell_type": "markdown",
   "metadata": {},
   "source": [
    "We create a dataframe to store our results. "
   ]
  },
  {
   "cell_type": "code",
   "execution_count": 234,
   "metadata": {
    "ExecuteTime": {
     "end_time": "2021-08-22T13:36:02.434937Z",
     "start_time": "2021-08-22T13:36:02.403771Z"
    }
   },
   "outputs": [
    {
     "data": {
      "text/html": [
       "<div>\n",
       "<style scoped>\n",
       "    .dataframe tbody tr th:only-of-type {\n",
       "        vertical-align: middle;\n",
       "    }\n",
       "\n",
       "    .dataframe tbody tr th {\n",
       "        vertical-align: top;\n",
       "    }\n",
       "\n",
       "    .dataframe thead th {\n",
       "        text-align: right;\n",
       "    }\n",
       "</style>\n",
       "<table border=\"1\" class=\"dataframe\">\n",
       "  <thead>\n",
       "    <tr style=\"text-align: right;\">\n",
       "      <th></th>\n",
       "      <th>x_base</th>\n",
       "      <th>y_base</th>\n",
       "      <th>x_idw</th>\n",
       "      <th>y_idw</th>\n",
       "      <th>y_exact</th>\n",
       "    </tr>\n",
       "  </thead>\n",
       "  <tbody>\n",
       "    <tr>\n",
       "      <td>0</td>\n",
       "      <td>-2.188853</td>\n",
       "      <td>0.008280</td>\n",
       "      <td>-2.976277</td>\n",
       "      <td>0.008280</td>\n",
       "      <td>-0.164564</td>\n",
       "    </tr>\n",
       "    <tr>\n",
       "      <td>1</td>\n",
       "      <td>1.582933</td>\n",
       "      <td>0.015713</td>\n",
       "      <td>2.350216</td>\n",
       "      <td>0.015713</td>\n",
       "      <td>0.711322</td>\n",
       "    </tr>\n",
       "    <tr>\n",
       "      <td>2</td>\n",
       "      <td>-4.053741</td>\n",
       "      <td>0.002428</td>\n",
       "      <td>-4.417246</td>\n",
       "      <td>0.002428</td>\n",
       "      <td>0.956761</td>\n",
       "    </tr>\n",
       "    <tr>\n",
       "      <td>3</td>\n",
       "      <td>-4.586283</td>\n",
       "      <td>0.001898</td>\n",
       "      <td>4.326533</td>\n",
       "      <td>0.001898</td>\n",
       "      <td>-0.926476</td>\n",
       "    </tr>\n",
       "    <tr>\n",
       "      <td>4</td>\n",
       "      <td>0.427330</td>\n",
       "      <td>0.179686</td>\n",
       "      <td>1.332188</td>\n",
       "      <td>0.179686</td>\n",
       "      <td>0.971668</td>\n",
       "    </tr>\n",
       "    <tr>\n",
       "      <td>5</td>\n",
       "      <td>-0.075087</td>\n",
       "      <td>0.876462</td>\n",
       "      <td>0.609807</td>\n",
       "      <td>0.876462</td>\n",
       "      <td>0.572710</td>\n",
       "    </tr>\n",
       "    <tr>\n",
       "      <td>6</td>\n",
       "      <td>-3.362171</td>\n",
       "      <td>0.003526</td>\n",
       "      <td>-3.215250</td>\n",
       "      <td>0.003526</td>\n",
       "      <td>0.073591</td>\n",
       "    </tr>\n",
       "    <tr>\n",
       "      <td>7</td>\n",
       "      <td>4.766761</td>\n",
       "      <td>0.001757</td>\n",
       "      <td>4.838277</td>\n",
       "      <td>0.001757</td>\n",
       "      <td>-0.992087</td>\n",
       "    </tr>\n",
       "    <tr>\n",
       "      <td>8</td>\n",
       "      <td>0.890445</td>\n",
       "      <td>0.048025</td>\n",
       "      <td>0.244027</td>\n",
       "      <td>0.048025</td>\n",
       "      <td>0.241613</td>\n",
       "    </tr>\n",
       "    <tr>\n",
       "      <td>9</td>\n",
       "      <td>4.045787</td>\n",
       "      <td>0.002438</td>\n",
       "      <td>3.444636</td>\n",
       "      <td>0.002438</td>\n",
       "      <td>-0.298427</td>\n",
       "    </tr>\n",
       "  </tbody>\n",
       "</table>\n",
       "</div>"
      ],
      "text/plain": [
       "     x_base    y_base     x_idw     y_idw   y_exact\n",
       "0 -2.188853  0.008280 -2.976277  0.008280 -0.164564\n",
       "1  1.582933  0.015713  2.350216  0.015713  0.711322\n",
       "2 -4.053741  0.002428 -4.417246  0.002428  0.956761\n",
       "3 -4.586283  0.001898  4.326533  0.001898 -0.926476\n",
       "4  0.427330  0.179686  1.332188  0.179686  0.971668\n",
       "5 -0.075087  0.876462  0.609807  0.876462  0.572710\n",
       "6 -3.362171  0.003526 -3.215250  0.003526  0.073591\n",
       "7  4.766761  0.001757  4.838277  0.001757 -0.992087\n",
       "8  0.890445  0.048025  0.244027  0.048025  0.241613\n",
       "9  4.045787  0.002438  3.444636  0.002438 -0.298427"
      ]
     },
     "execution_count": 234,
     "metadata": {},
     "output_type": "execute_result"
    }
   ],
   "source": [
    "df = pd.DataFrame()\n",
    "df['x_base'] = x_base\n",
    "df['y_base'] = y_base\n",
    "df['x_idw'] = x_idw\n",
    "df['y_idw'] = y_idw\n",
    "df['y_exact'] = y_exact\n",
    "df"
   ]
  },
  {
   "cell_type": "code",
   "execution_count": 137,
   "metadata": {
    "ExecuteTime": {
     "end_time": "2021-08-21T12:51:06.740950Z",
     "start_time": "2021-08-21T12:51:06.698498Z"
    }
   },
   "outputs": [
    {
     "data": {
      "text/plain": [
       "'\\\\begin{tabular}{rrrrr}\\n\\\\toprule\\n   x\\\\_base &    y\\\\_base &     x\\\\_idw &     y\\\\_idw &   y\\\\_exact \\\\\\\\\\n\\\\midrule\\n 0.054473 &  0.930940 & -0.223149 &  0.930940 & -0.221302 \\\\\\\\\\n-2.957060 &  0.004554 & -2.880096 &  0.004554 & -0.258526 \\\\\\\\\\n 1.415815 &  0.019564 &  4.216154 &  0.019564 & -0.879381 \\\\\\\\\\n-3.517283 &  0.003223 &  0.072038 &  0.003223 &  0.071976 \\\\\\\\\\n 3.564056 &  0.003139 & -4.735557 &  0.003139 &  0.999732 \\\\\\\\\\n 2.113209 &  0.008878 & -0.694312 &  0.008878 & -0.639857 \\\\\\\\\\n-0.628209 &  0.092029 &  2.035824 &  0.092029 &  0.893809 \\\\\\\\\\n 3.414479 &  0.003419 &  1.481915 &  0.003419 &  0.996053 \\\\\\\\\\n 0.864414 &  0.050812 & -4.183398 &  0.050812 &  0.863316 \\\\\\\\\\n 4.804012 &  0.001730 & -3.781464 &  0.001730 &  0.597092 \\\\\\\\\\n\\\\bottomrule\\n\\\\end{tabular}\\n'"
      ]
     },
     "execution_count": 137,
     "metadata": {},
     "output_type": "execute_result"
    }
   ],
   "source": [
    "df.to_latex(index=False)"
   ]
  },
  {
   "cell_type": "markdown",
   "metadata": {},
   "source": [
    "We save the plots and dataframe. "
   ]
  },
  {
   "cell_type": "code",
   "execution_count": 235,
   "metadata": {
    "ExecuteTime": {
     "end_time": "2021-08-22T13:36:06.276133Z",
     "start_time": "2021-08-22T13:36:06.075514Z"
    }
   },
   "outputs": [],
   "source": [
    "if sine==True: \n",
    "    fig.savefig('theo2a_sine.pdf', bbox_inches='tight')\n",
    "    df.to_pickle('theo2a_sine_results')\n",
    "else: \n",
    "    fig.savefig('theo2b_runge.pdf', bbox_inches='tight')\n",
    "    df.to_pickle('theo2b_runge_results')"
   ]
  },
  {
   "cell_type": "markdown",
   "metadata": {},
   "source": [
    "We calculate the variance of the derivative of the test functions. "
   ]
  },
  {
   "cell_type": "code",
   "execution_count": 4,
   "metadata": {
    "ExecuteTime": {
     "end_time": "2021-08-25T10:21:41.699081Z",
     "start_time": "2021-08-25T10:21:41.647179Z"
    }
   },
   "outputs": [
    {
     "data": {
      "text/plain": [
       "0.5001000000000001"
      ]
     },
     "execution_count": 4,
     "metadata": {},
     "output_type": "execute_result"
    }
   ],
   "source": [
    "## for sine\n",
    "x_sample = np.linspace(0, 2*np.pi, 10000)\n",
    "y_sample = np.cos(x_sample)\n",
    "np.var(y_sample, ddof=1)"
   ]
  },
  {
   "cell_type": "code",
   "execution_count": 5,
   "metadata": {
    "ExecuteTime": {
     "end_time": "2021-08-25T10:24:45.118441Z",
     "start_time": "2021-08-25T10:24:45.067790Z"
    }
   },
   "outputs": [
    {
     "data": {
      "text/plain": [
       "0.28722354140053064"
      ]
     },
     "execution_count": 5,
     "metadata": {},
     "output_type": "execute_result"
    }
   ],
   "source": [
    "## for Runge\n",
    "x_sample = np.linspace(0, 2*np.pi, 10000)\n",
    "y_sample = -50*x_sample/(1+25*x_sample**2)**2\n",
    "np.var(y_sample, ddof=1)"
   ]
  }
 ],
 "metadata": {
  "kernelspec": {
   "display_name": "Python 3",
   "language": "python",
   "name": "python3"
  },
  "language_info": {
   "codemirror_mode": {
    "name": "ipython",
    "version": 3
   },
   "file_extension": ".py",
   "mimetype": "text/x-python",
   "name": "python",
   "nbconvert_exporter": "python",
   "pygments_lexer": "ipython3",
   "version": "3.7.4"
  },
  "latex_envs": {
   "LaTeX_envs_menu_present": true,
   "autoclose": false,
   "autocomplete": true,
   "bibliofile": "biblio.bib",
   "cite_by": "apalike",
   "current_citInitial": 1,
   "eqLabelWithNumbers": true,
   "eqNumInitial": 1,
   "hotkeys": {
    "equation": "Ctrl-E",
    "itemize": "Ctrl-I"
   },
   "labels_anchors": false,
   "latex_user_defs": false,
   "report_style_numbering": false,
   "user_envs_cfg": false
  },
  "toc": {
   "base_numbering": 1,
   "nav_menu": {},
   "number_sections": true,
   "sideBar": true,
   "skip_h1_title": false,
   "title_cell": "Table of Contents",
   "title_sidebar": "Contents",
   "toc_cell": false,
   "toc_position": {},
   "toc_section_display": true,
   "toc_window_display": false
  }
 },
 "nbformat": 4,
 "nbformat_minor": 2
}
