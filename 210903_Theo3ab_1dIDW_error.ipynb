{
 "cells": [
  {
   "cell_type": "markdown",
   "metadata": {},
   "source": [
    "Summary: Implement Inverse Distance Weighting (IDW) on two test functions: \n",
    "- sine function $$y=\\sin x$$\n",
    "- and Runge function $$y = \\frac{1}{1+25x^2}$$\n",
    "\n",
    "and add confidence bounds and a measurement error. \n",
    "\n",
    "## Prep"
   ]
  },
  {
   "cell_type": "code",
   "execution_count": 1,
   "metadata": {
    "ExecuteTime": {
     "end_time": "2021-09-03T09:28:23.509007Z",
     "start_time": "2021-09-03T09:28:22.117178Z"
    }
   },
   "outputs": [],
   "source": [
    "import numpy as np\n",
    "import pandas as pd\n",
    "import matplotlib as mpl\n",
    "import matplotlib.pyplot as plt\n",
    "from datetime import datetime\n",
    "from matplotlib import dates\n",
    "import os\n",
    "from matplotlib.ticker import FuncFormatter, MultipleLocator\n",
    "\n",
    "import seaborn as sns\n",
    "import scipy.stats as stats\n",
    "\n",
    "from itertools import combinations\n",
    "import statistics\n",
    "\n",
    "## set up Latex rendering (see latex_rendering.ipynb for more info)\n",
    "import latex_support as latex\n",
    "plt.style.use('tex')\n",
    "plt.style.use('seaborn-colorblind')"
   ]
  },
  {
   "cell_type": "markdown",
   "metadata": {},
   "source": [
    "## Test functions\n",
    "\n",
    "We define the sine and Runge function. "
   ]
  },
  {
   "cell_type": "code",
   "execution_count": 2,
   "metadata": {
    "ExecuteTime": {
     "end_time": "2021-09-03T09:28:24.079350Z",
     "start_time": "2021-09-03T09:28:24.068409Z"
    }
   },
   "outputs": [],
   "source": [
    "def test_function(x, function='runge'): \n",
    "    if function=='runge': \n",
    "        return runge(x)\n",
    "    elif function=='sine': \n",
    "        return sine(x)\n",
    "    elif function=='quadratic':\n",
    "        return quadratic(x)\n",
    "    else:\n",
    "        print('Error: Please choose a valid test function. ')\n",
    "        \n",
    "\n",
    "def sine(x): \n",
    "    \"\"\"\n",
    "    calculate y = sin x\n",
    "    input: x\n",
    "    ouput: y\n",
    "    \"\"\"\n",
    "    return np.sin(x)\n",
    "\n",
    "def runge(x): \n",
    "    \"\"\"\n",
    "    calculate Runge function y = 1 / (1 + 25*x**2)\n",
    "    input: x\n",
    "    ouput: y\n",
    "    \"\"\"\n",
    "    return 1/(1+25*x**2)\n",
    "\n",
    "def quadratic(x):\n",
    "    \"\"\"\n",
    "    calculate quadratic function y = x**2\n",
    "    input: x\n",
    "    ouput: y\n",
    "    \"\"\"\n",
    "    return x**2"
   ]
  },
  {
   "cell_type": "markdown",
   "metadata": {},
   "source": [
    "## Base points and interpolated points\n",
    "\n",
    "We need a function to draw i values from a range. "
   ]
  },
  {
   "cell_type": "code",
   "execution_count": 99,
   "metadata": {
    "ExecuteTime": {
     "end_time": "2021-09-03T10:31:57.939031Z",
     "start_time": "2021-09-03T10:31:57.923407Z"
    }
   },
   "outputs": [],
   "source": [
    "def x_draw(x_min, x_max, i): \n",
    "    \"\"\"\n",
    "    randomly draw i x-values from range (x_min, x_max)\n",
    "    input: \n",
    "    - x_min: lower limit \n",
    "    - x_max: upper limit\n",
    "    - i: number of values drawn\n",
    "    ouput: array with i random values\n",
    "    \"\"\"\n",
    "    return np.random.uniform(x_min,x_max,i)"
   ]
  },
  {
   "cell_type": "markdown",
   "metadata": {},
   "source": [
    "### Estimate derivative variability\n",
    "\n",
    "https://stackoverflow.com/questions/18201690/get-unique-combinations-of-elements-from-a-python-list\n",
    "\n",
    "https://www.geeksforgeeks.org/permutation-and-combination-in-python/\n",
    "\n",
    "https://stackoverflow.com/questions/41821112/how-can-i-sum-the-product-of-two-list-items-using-for-loop-in-python/41821169\n"
   ]
  },
  {
   "cell_type": "code",
   "execution_count": 4,
   "metadata": {
    "ExecuteTime": {
     "end_time": "2021-09-03T09:28:28.222575Z",
     "start_time": "2021-09-03T09:28:28.183628Z"
    }
   },
   "outputs": [],
   "source": [
    "def estimate_v(x_base, y_base): \n",
    "    comb = combinations(list(range(i_base)), 2)\n",
    "    weight_ij = []\n",
    "    slope_squared = []\n",
    "    for m in list(comb):\n",
    "        i = m[0]\n",
    "        j = m[1]\n",
    "        \n",
    "        slope = (y_base[i] - y_base[j])**2/(x_base[i] - x_base[j])**2\n",
    "        slope_squared.append(slope)\n",
    "        \n",
    "        weight = 1/(x_base[i] - x_base[j])**2\n",
    "        weight_ij.append(weight)\n",
    "    v_upper = sum(x * y for x, y in zip(weight_ij, slope_squared)) \n",
    "    v_lower = sum(weight_ij)\n",
    "    v = v_upper / v_lower\n",
    "    print('Estimated derivative variability: {:.2f}'.format(v))\n",
    "    return v\n"
   ]
  },
  {
   "cell_type": "markdown",
   "metadata": {},
   "source": [
    "## IDW\n",
    "\n",
    "We implement IDW with and without measurement error. "
   ]
  },
  {
   "cell_type": "code",
   "execution_count": 111,
   "metadata": {
    "ExecuteTime": {
     "end_time": "2021-09-03T10:42:57.722677Z",
     "start_time": "2021-09-03T10:42:57.702201Z"
    }
   },
   "outputs": [],
   "source": [
    "def squared_distance(x_0, x_i):\n",
    "    \"\"\"\n",
    "    calculate the squared distance between two points in 1D\n",
    "    input: two x-values\n",
    "    output: squared distance between them\n",
    "    \"\"\"\n",
    "    d = (x_0 - x_i)**2\n",
    "    return d\n",
    "\n",
    "def idw_without_error(x_base, y_base, x_idw, v):\n",
    "    \"\"\"\n",
    "    do 1D IDW on a list of x-values and calculate standard error\n",
    "    input: \n",
    "    - x_base: known x-values\n",
    "    - y_base: known y-values\n",
    "    - x_idw: x-values to be interpolated\n",
    "    - v: estimated derivative variability\n",
    "    output: \n",
    "    - y_idw: interpolated y-values\n",
    "    - se: standard error\n",
    "    \"\"\"\n",
    "    ## create empty lists for interpolated y-values and standard error\n",
    "    y_idw = []\n",
    "    se = []\n",
    "\n",
    "    \n",
    "    ## loop through x-values to be interpolated\n",
    "    for i in range(len(x_idw)): \n",
    "        \n",
    "        ## calculate squared distances\n",
    "        squared_distances = [squared_distance(x_base[j], x_idw[i]) \n",
    "                     for j in range(len(x_base))]\n",
    "\n",
    "        ## calculate and append interpolated y-value\n",
    "        sum_lower = sum([1/x for x in squared_distances])\n",
    "        sum_upper = sum([y_base[j]/squared_distances[j] for j in range(len(x_base))])\n",
    "        y_i = sum_upper / sum_lower\n",
    "        y_idw.append(y_i)\n",
    "        \n",
    "        ## calculate and append standard error\n",
    "        se_i = np.sqrt(v/(sum(squared_distances)))\n",
    "        se.append(se_i)\n",
    "    return y_idw, se\n",
    "\n",
    "\n",
    "def idw_with_error(x_base, y_base, x_idw, v):\n",
    "    \"\"\"\n",
    "    do 1D IDW on a list of x-values and calculate standard error\n",
    "    input: \n",
    "    - x_base: known x-values\n",
    "    - y_base: known y-values\n",
    "    - x_idw: x-values to be interpolated\n",
    "    - v: estimated derivative variability\n",
    "    output: \n",
    "    - y_idw: interpolated y-values\n",
    "    - se: standard error\n",
    "    \"\"\"\n",
    "    ## create empty lists for interpolated y-values and standard error\n",
    "    y_idw = []\n",
    "    se = []\n",
    "    \n",
    "    ## calculate individual error variance for each base point\n",
    "    error_variance = [(error*y_base[j])**2 for j in range(len(y_base))]\n",
    "    \n",
    "    ## loop through x-values to be interpolated\n",
    "    for i in range(len(x_idw)): \n",
    "        \n",
    "        ## calculate squared distances\n",
    "        squared_distances = [squared_distance(x_base[j], x_idw[i]) \n",
    "                     for j in range(len(x_base))]\n",
    "                \n",
    "        ## calulate weights\n",
    "        weights = [1/(squared_distances[j]*v + error_variance[j]) for j in range(len(x_base))]\n",
    "        \n",
    "        ## calculate sum of weights\n",
    "        sum_weights = sum(weights)\n",
    "        \n",
    "        ## calculate and append interpolated y-value\n",
    "        y_i = sum([weights[j]/sum_weights*y_base[j] for j in range(len(x_base))])\n",
    "        y_idw.append(y_i)\n",
    "    \n",
    "        ## calculate and append standard error\n",
    "        se_i = 1/np.sqrt(sum_weights)\n",
    "        se.append(se_i)\n",
    "    \n",
    "    return y_idw, se\n"
   ]
  },
  {
   "cell_type": "markdown",
   "metadata": {},
   "source": [
    "## User configuration"
   ]
  },
  {
   "cell_type": "code",
   "execution_count": 183,
   "metadata": {
    "ExecuteTime": {
     "end_time": "2021-09-03T11:02:49.297836Z",
     "start_time": "2021-09-03T11:02:49.282086Z"
    }
   },
   "outputs": [],
   "source": [
    "## choose test function\n",
    "# function = 'runge' # Runge function\n",
    "function = 'sine' # sine function\n",
    "# function = 'quadratic' # quadratic function\n",
    "\n",
    "## configure function plot\n",
    "x_lower = -np.pi # lower limit of x-axis\n",
    "x_upper = np.pi # upper limit of x-axis\n",
    "y_lower = -1.2\n",
    "y_upper = 1.2\n",
    "i_function = 1000 # number of points\n",
    "\n",
    "## configure number of base points drawn\n",
    "i_base = 50\n",
    "\n",
    "## configure number of points to interpolate\n",
    "i_idw = 10\n",
    "\n",
    "## configure measurement error\n",
    "error = 0.05\n",
    "\n",
    "## configure confidence interval\n",
    "ci = .9 # other option: 0.95\n",
    "\n",
    "## configure plot\n",
    "base=0.5*np.pi # distance between ticks (only for sine plot)\n",
    "\n",
    "\n",
    "\n"
   ]
  },
  {
   "cell_type": "markdown",
   "metadata": {},
   "source": [
    "## Run and plot\n",
    "\n",
    "https://matplotlib.org/stable/api/_as_gen/matplotlib.pyplot.errorbar.html\n",
    "\n",
    "https://www.google.com/search?client=firefox-b-d&q=error+bound\n",
    "\n",
    "https://note.nkmk.me/en/python-function-return-multiple-values/"
   ]
  },
  {
   "cell_type": "code",
   "execution_count": 184,
   "metadata": {
    "ExecuteTime": {
     "end_time": "2021-09-03T11:02:51.475901Z",
     "start_time": "2021-09-03T11:02:51.244262Z"
    }
   },
   "outputs": [
    {
     "name": "stdout",
     "output_type": "stream",
     "text": [
      "Estimated derivative variability: 0.79\n"
     ]
    },
    {
     "name": "stderr",
     "output_type": "stream",
     "text": [
      "C:\\Users\\awsch\\Anaconda3\\lib\\site-packages\\ipykernel_launcher.py:55: UserWarning: linestyle is redundantly defined by the 'linestyle' keyword argument and the fmt string \"-+\" (-> linestyle='-'). The keyword argument will take precedence.\n",
      "C:\\Users\\awsch\\Anaconda3\\lib\\site-packages\\ipykernel_launcher.py:59: UserWarning: linestyle is redundantly defined by the 'linestyle' keyword argument and the fmt string \"-+\" (-> linestyle='-'). The keyword argument will take precedence.\n",
      "C:\\Users\\awsch\\Anaconda3\\lib\\site-packages\\ipykernel_launcher.py:63: UserWarning: linestyle is redundantly defined by the 'linestyle' keyword argument and the fmt string \"-+\" (-> linestyle='-'). The keyword argument will take precedence.\n"
     ]
    },
    {
     "data": {
      "text/plain": [
       "<matplotlib.legend.Legend at 0x289e3301a08>"
      ]
     },
     "execution_count": 184,
     "metadata": {},
     "output_type": "execute_result"
    },
    {
     "data": {
      "image/png": "[encoded data removed]",
      "text/plain": [
       "<Figure size 391.701x242.085 with 1 Axes>"
      ]
     },
     "metadata": {
      "needs_background": "light"
     },
     "output_type": "display_data"
    }
   ],
   "source": [
    "## choose base points (optionally from saved data)\n",
    "x_base = x_draw(x_lower, x_upper, i_base) # use this to create new points\n",
    "# x_base = x_base_sine # use this to load old sine data\n",
    "# x_base = x_base_runge # use this to load old Runge data\n",
    "\n",
    "\n",
    "## choose interpolated points (optionally from saved data)\n",
    "x_idw = x_draw(x_lower, x_upper, i_idw) # use this to create new points\n",
    "# x_idw = x_idw_sine # use this to load old sine data\n",
    "# x_idw = x_idw_runge # use this to load old Runge data\n",
    "\n",
    "## calculate function\n",
    "x = np.linspace(x_lower, x_upper, i_function)\n",
    "y = test_function(x, function)\n",
    "\n",
    "## calculate y-values of base points\n",
    "y_base = test_function(x_base, function)\n",
    "y_base_error = [error*y for y in y_base]\n",
    "\n",
    "## estimate derivative variability\n",
    "v = estimate_v(x_base, y_base)\n",
    "\n",
    "## do IDW (without measurement error)\n",
    "results_idw_without_error = idw_without_error(x_base, y_base, x_idw, v)\n",
    "y_idw_without_error = results_idw_without_error[0]\n",
    "y_idw_se_without_error = results_idw_without_error[1]\n",
    "\n",
    "## do IDW (with measurement error)\n",
    "results_idw_with_error = idw_with_error(x_base, y_base, x_idw, v)\n",
    "y_idw_with_error = results_idw_with_error[0]\n",
    "y_idw_se_with_error = results_idw_with_error[1]\n",
    "\n",
    "\n",
    "## calculate error bound from standard error (without and with measurement error)\n",
    "if ci == 0.9: \n",
    "    y_idw_err_without_error = [1.645*x for x in y_idw_se_without_error]\n",
    "    y_idw_err_with_error = [1.645*x for x in y_idw_se_with_error]\n",
    "elif ci == 0.95: \n",
    "    y_idw_err_without_error = [1.96*x for x in y_idw_se_without_error]\n",
    "    y_idw_err_with_error = [1.96*x for x in y_idw_se_with_error]\n",
    "else: \n",
    "    print('Error: Please choose a valid confidence interval!')\n",
    "\n",
    "\n",
    "########\n",
    "\n",
    "## create plot\n",
    "fig, ax = plt.subplots(1, 1, figsize=latex.set_size())\n",
    "\n",
    "## plot test function\n",
    "ax.plot(x, y, color='black', linewidth=0.5, label='test function')\n",
    "\n",
    "## plot base points\n",
    "ax.errorbar(x_base, y_base, yerr=y_base_error, fmt='-+',   ls='none', \n",
    "           color='orange',  elinewidth=0.5, label='base points with error={}'.format(error))\n",
    "\n",
    "## plot interpolated points without measurement error\n",
    "ax.errorbar(x_idw, y_idw_without_error, yerr=y_idw_err_without_error, fmt='-+', ls='none', capsize=5, \n",
    "          label='interpolated points without error')\n",
    "\n",
    "## plot interpolated points with measurement error\n",
    "ax.errorbar(x_idw, y_idw_with_error, yerr=y_idw_err_with_error, fmt='-+', ls='none', capsize=5,  \n",
    "             label='interpolated points with error')\n",
    "\n",
    "## set x-axis ticks for sine plot and change base to change distance between ticks\n",
    "if function=='sine': \n",
    "    ax.xaxis.set_major_formatter(FuncFormatter(\n",
    "        lambda val,pos: '{:.2g}$\\pi$'.format(val/np.pi) if val !=0 else '0'\n",
    "    ))\n",
    "    ax.xaxis.set_major_locator(MultipleLocator(base)) \n",
    "\n",
    "## set x limits\n",
    "plt.xlim(x_lower, x_upper)\n",
    "plt.ylim(y_lower, y_upper)\n",
    "\n",
    "## set title, labels and legend\n",
    "if function=='sine': \n",
    "    plt.title(r'sine: $f(x) = \\sin(x)$')\n",
    "elif function=='runge': \n",
    "    plt.title(r'Runge: $f(x) = \\frac{1}{1+25x^2}$')\n",
    "elif function=='quadratic':\n",
    "    plt.title(r'quadratic: $f(x) = x^2$')\n",
    "else:\n",
    "    print('Error: Please choose a valid test function!')\n",
    "plt.xlabel('x')\n",
    "plt.ylabel('f(x)')\n",
    "plt.legend()"
   ]
  },
  {
   "cell_type": "markdown",
   "metadata": {},
   "source": [
    "Save the base points and interpolated points for later. "
   ]
  },
  {
   "cell_type": "code",
   "execution_count": 19,
   "metadata": {
    "ExecuteTime": {
     "end_time": "2021-09-01T09:07:15.166784Z",
     "start_time": "2021-09-01T09:07:15.129132Z"
    }
   },
   "outputs": [
    {
     "name": "stdout",
     "output_type": "stream",
     "text": [
      "Stored 'x_base_runge' (ndarray)\n",
      "Stored 'x_idw_runge' (ndarray)\n"
     ]
    }
   ],
   "source": [
    "## Store Runge data\n",
    "x_base_runge = x_base\n",
    "x_idw_runge = x_idw\n",
    "%store x_base_runge\n",
    "%store x_idw_runge\n"
   ]
  },
  {
   "cell_type": "code",
   "execution_count": 135,
   "metadata": {
    "ExecuteTime": {
     "end_time": "2021-09-01T09:24:04.260225Z",
     "start_time": "2021-09-01T09:24:04.233901Z"
    }
   },
   "outputs": [],
   "source": [
    "## Load Runge data\n",
    "%store -r x_base_runge\n",
    "%store -r x_idw_runge"
   ]
  },
  {
   "cell_type": "code",
   "execution_count": 186,
   "metadata": {
    "ExecuteTime": {
     "end_time": "2021-09-03T11:06:18.259108Z",
     "start_time": "2021-09-03T11:06:18.227857Z"
    }
   },
   "outputs": [
    {
     "name": "stdout",
     "output_type": "stream",
     "text": [
      "Stored 'x_base_sine' (ndarray)\n",
      "Stored 'x_idw_sine' (ndarray)\n"
     ]
    }
   ],
   "source": [
    "## Store sine data\n",
    "x_base_sine = x_base\n",
    "x_idw_sine = x_idw\n",
    "%store x_base_sine\n",
    "%store x_idw_sine"
   ]
  },
  {
   "cell_type": "code",
   "execution_count": 187,
   "metadata": {
    "ExecuteTime": {
     "end_time": "2021-09-03T11:06:20.197686Z",
     "start_time": "2021-09-03T11:06:20.165213Z"
    }
   },
   "outputs": [],
   "source": [
    "## Load sine data\n",
    "%store -r x_base_sine\n",
    "%store -r x_idw_sine"
   ]
  },
  {
   "cell_type": "markdown",
   "metadata": {},
   "source": [
    "To evaluate the IDW, calculate and save the mean squared error. "
   ]
  },
  {
   "cell_type": "code",
   "execution_count": 188,
   "metadata": {
    "ExecuteTime": {
     "end_time": "2021-09-03T11:06:22.818901Z",
     "start_time": "2021-09-03T11:06:22.788349Z"
    }
   },
   "outputs": [],
   "source": [
    "## calculate MSE\n",
    "y_exact = test_function(x_idw)\n",
    "mse = np.mean(squared_distance(y_idw, y_exact))"
   ]
  },
  {
   "cell_type": "code",
   "execution_count": 189,
   "metadata": {
    "ExecuteTime": {
     "end_time": "2021-09-03T11:06:24.868161Z",
     "start_time": "2021-09-03T11:06:24.831503Z"
    }
   },
   "outputs": [
    {
     "name": "stdout",
     "output_type": "stream",
     "text": [
      "Stored 'mse_sine' (float64)\n"
     ]
    }
   ],
   "source": [
    "## use this for sine\n",
    "mse_sine = mse\n",
    "%store mse_sine"
   ]
  },
  {
   "cell_type": "code",
   "execution_count": 21,
   "metadata": {
    "ExecuteTime": {
     "end_time": "2021-09-01T09:07:26.838049Z",
     "start_time": "2021-09-01T09:07:26.811304Z"
    }
   },
   "outputs": [
    {
     "name": "stdout",
     "output_type": "stream",
     "text": [
      "Stored 'mse_runge' (float64)\n"
     ]
    }
   ],
   "source": [
    "## use this for Runge\n",
    "mse_runge = mse\n",
    "%store mse_runge"
   ]
  },
  {
   "cell_type": "markdown",
   "metadata": {},
   "source": [
    "To retrieve the last MSEs: \n",
    "\n",
    "https://www.blopig.com/blog/2020/05/storing-variables-in-jupyter-notebooks-using-store-magic/"
   ]
  },
  {
   "cell_type": "code",
   "execution_count": 190,
   "metadata": {
    "ExecuteTime": {
     "end_time": "2021-09-03T11:06:29.459549Z",
     "start_time": "2021-09-03T11:06:29.436473Z"
    }
   },
   "outputs": [
    {
     "name": "stdout",
     "output_type": "stream",
     "text": [
      "MSE for the sine:  0.37653699996229645\n"
     ]
    }
   ],
   "source": [
    "%store -r mse_sine\n",
    "print('MSE for the sine: ', mse_sine)"
   ]
  },
  {
   "cell_type": "code",
   "execution_count": 22,
   "metadata": {
    "ExecuteTime": {
     "end_time": "2021-09-01T09:07:29.133162Z",
     "start_time": "2021-09-01T09:07:29.068719Z"
    }
   },
   "outputs": [
    {
     "name": "stdout",
     "output_type": "stream",
     "text": [
      "MSE for Runge:  0.08343070386675819\n"
     ]
    }
   ],
   "source": [
    "%store -r mse_runge\n",
    "print('MSE for Runge: ', mse_runge)"
   ]
  },
  {
   "cell_type": "markdown",
   "metadata": {},
   "source": [
    "We save the plots and dataframe. "
   ]
  },
  {
   "cell_type": "code",
   "execution_count": 161,
   "metadata": {
    "ExecuteTime": {
     "end_time": "2021-09-03T10:55:35.176643Z",
     "start_time": "2021-09-03T10:55:34.976107Z"
    }
   },
   "outputs": [],
   "source": [
    "if function=='sine': \n",
    "    fig.savefig('theo3a_sine.pdf', bbox_inches='tight')\n",
    "    df.to_pickle('theo3a_sine_results')\n",
    "if function=='runge': \n",
    "    fig.savefig('theo3b_runge.pdf', bbox_inches='tight')\n",
    "    df.to_pickle('theo3b_runge_results')"
   ]
  },
  {
   "cell_type": "code",
   "execution_count": 185,
   "metadata": {
    "ExecuteTime": {
     "end_time": "2021-09-03T11:03:02.389342Z",
     "start_time": "2021-09-03T11:03:02.200174Z"
    }
   },
   "outputs": [],
   "source": [
    "fig.savefig('theo3a_sine_error5%.pdf', bbox_inches='tight')"
   ]
  }
 ],
 "metadata": {
  "kernelspec": {
   "display_name": "Python 3",
   "language": "python",
   "name": "python3"
  },
  "language_info": {
   "codemirror_mode": {
    "name": "ipython",
    "version": 3
   },
   "file_extension": ".py",
   "mimetype": "text/x-python",
   "name": "python",
   "nbconvert_exporter": "python",
   "pygments_lexer": "ipython3",
   "version": "3.7.4"
  },
  "latex_envs": {
   "LaTeX_envs_menu_present": true,
   "autoclose": false,
   "autocomplete": true,
   "bibliofile": "biblio.bib",
   "cite_by": "apalike",
   "current_citInitial": 1,
   "eqLabelWithNumbers": true,
   "eqNumInitial": 1,
   "hotkeys": {
    "equation": "Ctrl-E",
    "itemize": "Ctrl-I"
   },
   "labels_anchors": false,
   "latex_user_defs": false,
   "report_style_numbering": false,
   "user_envs_cfg": false
  },
  "toc": {
   "base_numbering": 1,
   "nav_menu": {},
   "number_sections": true,
   "sideBar": true,
   "skip_h1_title": false,
   "title_cell": "Table of Contents",
   "title_sidebar": "Contents",
   "toc_cell": false,
   "toc_position": {},
   "toc_section_display": true,
   "toc_window_display": false
  }
 },
 "nbformat": 4,
 "nbformat_minor": 2
}
